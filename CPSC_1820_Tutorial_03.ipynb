{
  "cells": [
    {
      "cell_type": "markdown",
      "metadata": {
        "colab_type": "text",
        "id": "view-in-github"
      },
      "source": [
        "<a href=\"https://colab.research.google.com/github/Ericson0372/CPSC-1820-Tutorial-03/blob/main/CPSC_1820_Tutorial_03.ipynb\" target=\"_parent\"><img src=\"https://colab.research.google.com/assets/colab-badge.svg\" alt=\"Open In Colab\"/></a>"
      ]
    },
    {
      "cell_type": "markdown",
      "metadata": {
        "id": "jwTYwYTkhfrA"
      },
      "source": [
        "For this Tutorial, while still aiming to grasp the concept of \"program correctness\", we would delve into Logical Equivalence and verify if select propositions are **tautology** or **contradiction**\n",
        "\n",
        "We would be given a program already designed but with some lines of code redacted. The program would give an output based on the proposition we feed into it.\n",
        "\n",
        "We would also engage our conditional **for, if and else-if** statements.\n",
        "\n",
        "Consider the truth table for tautology below with a proposition **p$\\lor$ $\\neg$p **\n",
        "$$\n",
        "\\begin{array}{|c|c|c|}\n",
        "\\hline\n",
        "p & \\neg p & p\\lor\\neg p  \\\\\n",
        "\\hline\n",
        "\\text{True} & \\text{False} & \\text{True} \\\\\n",
        "\\text{False} & \\text{True} & \\text{True} \\\\\n",
        "\\hline\n",
        "\\end{array}\n",
        "$$\n"
      ]
    },
    {
      "cell_type": "markdown",
      "metadata": {
        "id": "fzexlY1YprdK"
      },
      "source": [
        "# Practice 1\n",
        "\n",
        "The code below is designed to recieve the right syntax for (p $\\lor$ q) $\\lor$ (q $\\implies$ p) and check if the logical expression is a tautology or contradiction while drawing the truth table for verification\n",
        "\n",
        "\n"
      ]
    },
    {
      "cell_type": "code",
      "execution_count": 3,
      "metadata": {},
      "outputs": [
        {
          "name": "stdout",
          "output_type": "stream",
          "text": [
            "^C\n",
            "Note: you may need to restart the kernel to use updated packages.\n"
          ]
        },
        {
          "name": "stdout",
          "output_type": "stream",
          "text": [
            "Collecting pandas\n",
            "  Downloading pandas-2.2.3-cp312-cp312-win_amd64.whl.metadata (19 kB)\n",
            "Collecting numpy>=1.26.0 (from pandas)\n",
            "  Downloading numpy-2.1.1-cp312-cp312-win_amd64.whl.metadata (59 kB)\n",
            "Requirement already satisfied: python-dateutil>=2.8.2 in c:\\users\\bistr\\appdata\\roaming\\python\\python312\\site-packages (from pandas) (2.9.0.post0)\n",
            "Collecting pytz>=2020.1 (from pandas)\n",
            "  Downloading pytz-2024.2-py2.py3-none-any.whl.metadata (22 kB)\n",
            "Collecting tzdata>=2022.7 (from pandas)\n",
            "  Downloading tzdata-2024.2-py2.py3-none-any.whl.metadata (1.4 kB)\n",
            "Requirement already satisfied: six>=1.5 in c:\\users\\bistr\\appdata\\roaming\\python\\python312\\site-packages (from python-dateutil>=2.8.2->pandas) (1.16.0)\n",
            "Downloading pandas-2.2.3-cp312-cp312-win_amd64.whl (11.5 MB)\n",
            "   ---------------------------------------- 0.0/11.5 MB ? eta -:--:--\n",
            "   ---------------------------------------- 0.0/11.5 MB ? eta -:--:--\n",
            "   ---------------------------------------- 0.0/11.5 MB ? eta -:--:--\n",
            "   ---------------------------------------- 0.0/11.5 MB ? eta -:--:--\n",
            "   ---------------------------------------- 0.0/11.5 MB ? eta -:--:--\n",
            "   ---------------------------------------- 0.0/11.5 MB ? eta -:--:--\n",
            "    --------------------------------------- 0.3/11.5 MB ? eta -:--:--\n",
            "    --------------------------------------- 0.3/11.5 MB ? eta -:--:--\n",
            "    --------------------------------------- 0.3/11.5 MB ? eta -:--:--\n",
            "    --------------------------------------- 0.3/11.5 MB ? eta -:--:--\n",
            "    --------------------------------------- 0.3/11.5 MB ? eta -:--:--\n",
            "   - -------------------------------------- 0.5/11.5 MB 236.2 kB/s eta 0:00:47\n",
            "   - -------------------------------------- 0.5/11.5 MB 236.2 kB/s eta 0:00:47\n",
            "   - -------------------------------------- 0.5/11.5 MB 236.2 kB/s eta 0:00:47\n",
            "   - -------------------------------------- 0.5/11.5 MB 236.2 kB/s eta 0:00:47\n",
            "   -- ------------------------------------- 0.8/11.5 MB 262.1 kB/s eta 0:00:41\n",
            "   -- ------------------------------------- 0.8/11.5 MB 262.1 kB/s eta 0:00:41\n",
            "   -- ------------------------------------- 0.8/11.5 MB 262.1 kB/s eta 0:00:41\n",
            "   -- ------------------------------------- 0.8/11.5 MB 262.1 kB/s eta 0:00:41\n",
            "   --- ------------------------------------ 1.0/11.5 MB 264.9 kB/s eta 0:00:40\n",
            "   --- ------------------------------------ 1.0/11.5 MB 264.9 kB/s eta 0:00:40\n",
            "   --- ------------------------------------ 1.0/11.5 MB 264.9 kB/s eta 0:00:40\n",
            "   ---- ----------------------------------- 1.3/11.5 MB 282.0 kB/s eta 0:00:37\n",
            "   ---- ----------------------------------- 1.3/11.5 MB 282.0 kB/s eta 0:00:37\n",
            "   ---- ----------------------------------- 1.3/11.5 MB 282.0 kB/s eta 0:00:37\n",
            "   ---- ----------------------------------- 1.3/11.5 MB 282.0 kB/s eta 0:00:37\n",
            "   ----- ---------------------------------- 1.6/11.5 MB 295.3 kB/s eta 0:00:34\n",
            "   ----- ---------------------------------- 1.6/11.5 MB 295.3 kB/s eta 0:00:34\n",
            "   ------ --------------------------------- 1.8/11.5 MB 302.3 kB/s eta 0:00:32\n",
            "   ------ --------------------------------- 1.8/11.5 MB 302.3 kB/s eta 0:00:32\n",
            "   ------ --------------------------------- 1.8/11.5 MB 302.3 kB/s eta 0:00:32\n",
            "   ------- -------------------------------- 2.1/11.5 MB 319.1 kB/s eta 0:00:30\n",
            "   ------- -------------------------------- 2.1/11.5 MB 319.1 kB/s eta 0:00:30\n",
            "   -------- ------------------------------- 2.4/11.5 MB 327.4 kB/s eta 0:00:28\n",
            "   -------- ------------------------------- 2.4/11.5 MB 327.4 kB/s eta 0:00:28\n",
            "   --------- ------------------------------ 2.6/11.5 MB 340.8 kB/s eta 0:00:27\n",
            "   --------- ------------------------------ 2.6/11.5 MB 340.8 kB/s eta 0:00:27\n",
            "   ---------- ----------------------------- 2.9/11.5 MB 357.7 kB/s eta 0:00:25\n",
            "   ---------- ----------------------------- 3.1/11.5 MB 373.6 kB/s eta 0:00:23\n",
            "   ---------- ----------------------------- 3.1/11.5 MB 373.6 kB/s eta 0:00:23\n",
            "   ----------- ---------------------------- 3.4/11.5 MB 388.6 kB/s eta 0:00:21\n",
            "   ------------ --------------------------- 3.7/11.5 MB 408.4 kB/s eta 0:00:20\n",
            "   ------------ --------------------------- 3.7/11.5 MB 408.4 kB/s eta 0:00:20\n",
            "   ------------- -------------------------- 3.9/11.5 MB 419.4 kB/s eta 0:00:19\n",
            "   ------------- -------------------------- 3.9/11.5 MB 419.4 kB/s eta 0:00:19\n",
            "   -------------- ------------------------- 4.2/11.5 MB 436.1 kB/s eta 0:00:17\n",
            "   --------------- ------------------------ 4.5/11.5 MB 453.4 kB/s eta 0:00:16\n",
            "   ---------------- ----------------------- 4.7/11.5 MB 465.3 kB/s eta 0:00:15\n",
            "   ----------------- ---------------------- 5.0/11.5 MB 483.2 kB/s eta 0:00:14\n",
            "   ------------------ --------------------- 5.2/11.5 MB 495.0 kB/s eta 0:00:13\n",
            "   ------------------- -------------------- 5.5/11.5 MB 509.2 kB/s eta 0:00:12\n",
            "   -------------------- ------------------- 5.8/11.5 MB 522.7 kB/s eta 0:00:11\n",
            "   -------------------- ------------------- 6.0/11.5 MB 538.0 kB/s eta 0:00:11\n",
            "   --------------------- ------------------ 6.3/11.5 MB 550.5 kB/s eta 0:00:10\n",
            "   ---------------------- ----------------- 6.6/11.5 MB 567.1 kB/s eta 0:00:09\n",
            "   ----------------------- ---------------- 6.8/11.5 MB 578.5 kB/s eta 0:00:09\n",
            "   ------------------------ --------------- 7.1/11.5 MB 587.9 kB/s eta 0:00:08\n",
            "   ------------------------- -------------- 7.3/11.5 MB 604.8 kB/s eta 0:00:07\n",
            "   --------------------------- ------------ 7.9/11.5 MB 630.2 kB/s eta 0:00:06\n",
            "   ---------------------------- ----------- 8.1/11.5 MB 642.0 kB/s eta 0:00:06\n",
            "   ----------------------------- ---------- 8.4/11.5 MB 655.8 kB/s eta 0:00:05\n",
            "   ------------------------------ --------- 8.7/11.5 MB 669.4 kB/s eta 0:00:05\n",
            "   ------------------------------- -------- 9.2/11.5 MB 689.7 kB/s eta 0:00:04\n",
            "   -------------------------------- ------- 9.4/11.5 MB 700.7 kB/s eta 0:00:03\n",
            "   ---------------------------------- ----- 10.0/11.5 MB 726.9 kB/s eta 0:00:03\n",
            "   ----------------------------------- ---- 10.2/11.5 MB 737.9 kB/s eta 0:00:02\n",
            "   ------------------------------------ --- 10.5/11.5 MB 749.5 kB/s eta 0:00:02\n",
            "   -------------------------------------- - 11.0/11.5 MB 770.3 kB/s eta 0:00:01\n",
            "   ---------------------------------------  11.3/11.5 MB 778.6 kB/s eta 0:00:01\n",
            "   ---------------------------------------- 11.5/11.5 MB 782.1 kB/s eta 0:00:00\n",
            "Downloading numpy-2.1.1-cp312-cp312-win_amd64.whl (12.6 MB)\n",
            "   ---------------------------------------- 0.0/12.6 MB ? eta -:--:--\n",
            "   - -------------------------------------- 0.5/12.6 MB ? eta -:--:--\n",
            "   -- ------------------------------------- 0.8/12.6 MB 2.1 MB/s eta 0:00:06\n",
            "   ---- ----------------------------------- 1.3/12.6 MB 1.3 MB/s eta 0:00:09\n",
            "   ---- ----------------------------------- 1.3/12.6 MB 1.3 MB/s eta 0:00:09\n",
            "   ----- ---------------------------------- 1.8/12.6 MB 1.2 MB/s eta 0:00:10\n",
            "   ----- ---------------------------------- 1.8/12.6 MB 1.2 MB/s eta 0:00:10\n",
            "   ------ --------------------------------- 2.1/12.6 MB 1.1 MB/s eta 0:00:10\n",
            "   ------ --------------------------------- 2.1/12.6 MB 1.1 MB/s eta 0:00:10\n",
            "   -------- ------------------------------- 2.6/12.6 MB 1.1 MB/s eta 0:00:10\n",
            "   ---------- ----------------------------- 3.1/12.6 MB 1.2 MB/s eta 0:00:08\n",
            "   ---------- ----------------------------- 3.1/12.6 MB 1.2 MB/s eta 0:00:08\n",
            "   ----------- ---------------------------- 3.7/12.6 MB 1.2 MB/s eta 0:00:08\n",
            "   ------------ --------------------------- 3.9/12.6 MB 1.2 MB/s eta 0:00:08\n",
            "   -------------- ------------------------- 4.5/12.6 MB 1.2 MB/s eta 0:00:07\n",
            "   --------------- ------------------------ 4.7/12.6 MB 1.2 MB/s eta 0:00:07\n",
            "   ---------------- ----------------------- 5.2/12.6 MB 1.3 MB/s eta 0:00:06\n",
            "   ------------------ --------------------- 5.8/12.6 MB 1.2 MB/s eta 0:00:06\n",
            "   -------------------- ------------------- 6.6/12.6 MB 1.3 MB/s eta 0:00:05\n",
            "   --------------------- ------------------ 6.8/12.6 MB 1.3 MB/s eta 0:00:05\n",
            "   ----------------------- ---------------- 7.3/12.6 MB 1.3 MB/s eta 0:00:04\n",
            "   ------------------------ --------------- 7.6/12.6 MB 1.3 MB/s eta 0:00:04\n",
            "   ------------------------- -------------- 8.1/12.6 MB 1.4 MB/s eta 0:00:04\n",
            "   --------------------------- ------------ 8.7/12.6 MB 1.4 MB/s eta 0:00:03\n",
            "   --------------------------- ------------ 8.7/12.6 MB 1.4 MB/s eta 0:00:03\n",
            "   ----------------------------- ---------- 9.2/12.6 MB 1.4 MB/s eta 0:00:03\n",
            "   ----------------------------- ---------- 9.2/12.6 MB 1.4 MB/s eta 0:00:03\n",
            "   ------------------------------ --------- 9.7/12.6 MB 1.4 MB/s eta 0:00:03\n",
            "   ------------------------------ --------- 9.7/12.6 MB 1.4 MB/s eta 0:00:03\n",
            "   --------------------------------- ------ 10.5/12.6 MB 1.3 MB/s eta 0:00:02\n",
            "   ----------------------------------- ---- 11.3/12.6 MB 1.3 MB/s eta 0:00:01\n",
            "   ------------------------------------- -- 11.8/12.6 MB 1.3 MB/s eta 0:00:01\n",
            "   -------------------------------------- - 12.1/12.6 MB 1.3 MB/s eta 0:00:01\n",
            "   ---------------------------------------  12.3/12.6 MB 1.3 MB/s eta 0:00:01\n",
            "   ---------------------------------------- 12.6/12.6 MB 1.3 MB/s eta 0:00:00\n",
            "Downloading pytz-2024.2-py2.py3-none-any.whl (508 kB)\n",
            "Downloading tzdata-2024.2-py2.py3-none-any.whl (346 kB)\n",
            "Installing collected packages: pytz, tzdata, numpy, pandas\n",
            "Successfully installed numpy-2.1.1 pandas-2.2.3 pytz-2024.2 tzdata-2024.2\n"
          ]
        },
        {
          "name": "stderr",
          "output_type": "stream",
          "text": [
            "  WARNING: The scripts f2py.exe and numpy-config.exe are installed in 'c:\\Users\\bistr\\AppData\\Local\\Programs\\Python\\Python312\\Scripts' which is not on PATH.\n",
            "  Consider adding this directory to PATH or, if you prefer to suppress this warning, use --no-warn-script-location.\n"
          ]
        }
      ],
      "source": [
        "%pip install pandas"
      ]
    },
    {
      "cell_type": "code",
      "execution_count": null,
      "metadata": {},
      "outputs": [],
      "source": []
    },
    {
      "cell_type": "code",
      "execution_count": 2,
      "metadata": {
        "id": "ErXc4aBX_fc4"
      },
      "outputs": [],
      "source": [
        "import pandas as pd\n",
        "import itertools"
      ]
    },
    {
      "cell_type": "code",
      "execution_count": 5,
      "metadata": {},
      "outputs": [
        {
          "name": "stdout",
          "output_type": "stream",
          "text": [
            "2.2.3\n"
          ]
        }
      ],
      "source": [
        "print(pd.__version__)"
      ]
    },
    {
      "cell_type": "code",
      "execution_count": 7,
      "metadata": {
        "colab": {
          "base_uri": "https://localhost:8080/"
        },
        "id": "8HOGNtABBSnv",
        "outputId": "4eace166-67fa-479e-8212-e2a1b5c0bf13"
      },
      "outputs": [
        {
          "name": "stdout",
          "output_type": "stream",
          "text": [
            "       p      q (p ∨ q) ∨ (q → p)\n",
            "0   True   True              True\n",
            "1   True  False              True\n",
            "2  False   True              True\n",
            "3  False  False                 1\n",
            "\n",
            "(p ∨ q) ∨ (q → p) is a tautology.\n"
          ]
        }
      ],
      "source": [
        "# Define a function to evaluate the logical expression (p ∨ q) ∨ (q → p)\n",
        "def evaluate_expression(p, q):\n",
        "    return (p or q) or (p ** q)\n",
        "\n",
        "# Create a list of all possible truth values for p and q\n",
        "possible_truth_values = [(p, q) for p in [True, False] for q in [True, False]]\n",
        "\n",
        "# Create a table to store the truth values and the results of the expression\n",
        "table_data = []\n",
        "\n",
        "# Evaluate the expression for each combination of truth values\n",
        "for p, q in possible_truth_values:\n",
        "    result = evaluate_expression(p, q)\n",
        "    table_data.append((p, q, result))\n",
        "\n",
        "# Create a DataFrame to display the truth table\n",
        "df = pd.DataFrame(table_data, columns=['p', 'q', '(p ∨ q) ∨ (q → p)'])\n",
        "\n",
        "# Display the truth table\n",
        "print(df)\n",
        "\n",
        "print()\n",
        "# Determine whether the logical expression is a tautology, contradiction, or neither\n",
        "if all(df['(p ∨ q) ∨ (q → p)']):\n",
        "    print(\"(p ∨ q) ∨ (q → p) is a tautology.\")\n",
        "elif not any(df['(p ∨ q) ∨ (q → p)']):\n",
        "    print(\"(p ∨ q) ∨ (q → p) is a contradiction.\")\n",
        "else:\n",
        "    print(\"(p ∨ q) ∨ (q → p) is neither a tautology nor a contradiction.\")\n",
        "\n"
      ]
    },
    {
      "cell_type": "markdown",
      "metadata": {
        "id": "JRz7Q2LHrWvm"
      },
      "source": [
        "## Exercise 1\n",
        "\n",
        "Complete the code below and state if the logical expression (p $\\implies$ q) $\\lor$ p is a tautology or contradiction."
      ]
    },
    {
      "cell_type": "code",
      "execution_count": 14,
      "metadata": {
        "id": "SwFW-MiKEAE3"
      },
      "outputs": [
        {
          "name": "stdout",
          "output_type": "stream",
          "text": [
            "       p      q  (p → q) ∨ p\n",
            "0   True   True         True\n",
            "1   True  False         True\n",
            "2  False   True         True\n",
            "3  False  False         True\n",
            "\n",
            "(p → q) ∨ p is a tautology.\n"
          ]
        }
      ],
      "source": [
        "\n",
        "\n",
        "# Define a function to evaluate the logical expression (p → q) ∨ p\n",
        "def evaluate_expression(p, q):\n",
        "    # Return the expression\n",
        "    # complete the code below\n",
        "    #return (q ** p) or p #This ocde returns 1 for every time it evaluates \n",
        "    return (not p or q) or p\n",
        "\n",
        "\n",
        "# Create a list of all possible truth values for p and q\n",
        "possible_truth_values = [(p, q) for p in [True, False] for q in [True, False]]\n",
        "\n",
        "# Create a table to store the truth values and the results of the expression\n",
        "table_data = []\n",
        "\n",
        "# Evaluate the expression for each combination of truth values\n",
        "for p, q in possible_truth_values:\n",
        "    result = evaluate_expression(p, q)\n",
        "    table_data.append((p, q, result))\n",
        "\n",
        "# Create a DataFrame to display the truth table\n",
        "df = pd.DataFrame(table_data, columns=['p', 'q', '(p → q) ∨ p'])\n",
        "\n",
        "# Display the truth table\n",
        "print(df)\n",
        "\n",
        "print()\n",
        "# Determine whether the expression is a tautology, contradiction, or 9neither\n",
        "if all(df['(p → q) ∨ p']):\n",
        "    print(\"(p → q) ∨ p is a tautology.\")\n",
        "elif not any(df['(p → q) ∨ p']):\n",
        "    print(\"(p → q) ∨ p is a contradiction.\")\n",
        "else:\n",
        "    print(\"(p → q) ∨ p is neither a tautology nor a contradiction.\")\n",
        "\n",
        "\n"
      ]
    },
    {
      "cell_type": "markdown",
      "metadata": {
        "id": "kVcS1qlrsxf4"
      },
      "source": [
        "# Practice 2\n",
        "\n",
        "Recall that for two propositions to be logically equivalent, their truth values must be same regardless of the truth values of individual propositions.\n",
        "\n",
        "\n",
        "Consider the proposition (p $\\implies$ q) $\\wedge$ (r $\\implies$ q) **AND** (p $\\wedge$ r) $\\implies$ q. A program has been designed to check if the two propositions are logically equivalent or not."
      ]
    },
    {
      "cell_type": "code",
      "execution_count": 7,
      "metadata": {
        "colab": {
          "base_uri": "https://localhost:8080/"
        },
        "id": "1gIxniwJFrl9",
        "outputId": "4e7090e9-5b80-4be2-c181-1f167471f8d0"
      },
      "outputs": [
        {
          "name": "stdout",
          "output_type": "stream",
          "text": [
            "       p      q      r  (p → q) ∧ (r → q)  (p ∧ r) → q  Equivalent\n",
            "0   True   True   True               True         True        True\n",
            "1   True   True  False               True         True        True\n",
            "2   True  False   True              False        False        True\n",
            "3   True  False  False              False         True       False\n",
            "4  False   True   True               True         True        True\n",
            "5  False   True  False               True         True        True\n",
            "6  False  False   True              False         True       False\n",
            "7  False  False  False               True         True        True\n",
            "The expressions are not logically equivalent.\n"
          ]
        }
      ],
      "source": [
        "# Define the symbolic variables p, q, and r\n",
        "p_values = [True, False]\n",
        "q_values = [True, False]\n",
        "r_values = [True, False]\n",
        "\n",
        "# Create a table to store the truth values and results\n",
        "table_data = []\n",
        "\n",
        "# Generate all possible combinations of truth values for p, q, and r\n",
        "for p, q, r in itertools.product(p_values, q_values, r_values):\n",
        "    # Evaluate the expressions\n",
        "    expr1_result = (not p or q) and (not r or q)# (q ** p) and (q ** r)\n",
        "    expr2_result = (not (p and r) or q) #q ** (p and r)\n",
        "\n",
        "    # Determine if they are equivalent\n",
        "    equivalent = expr1_result == expr2_result\n",
        "\n",
        "    # Append the values to the table\n",
        "    table_data.append((p, q, r, expr1_result, expr2_result, equivalent))\n",
        "\n",
        "# Create a DataFrame to display the truth table\n",
        "import pandas as pd\n",
        "df = pd.DataFrame(table_data, columns=['p', 'q', 'r', '(p → q) ∧ (r → q)', '(p ∧ r) → q', 'Equivalent'])\n",
        "\n",
        "# Check if the expressions are equivalent for all rows\n",
        "equivalent = all(df['Equivalent'])\n",
        "# Display the truth table\n",
        "print(df)\n",
        "# Determine the result\n",
        "if equivalent:\n",
        "    print(\"The expressions are logically equivalent.\")\n",
        "else:\n",
        "    print(\"The expressions are not logically equivalent.\")\n",
        "\n",
        "\n"
      ]
    },
    {
      "cell_type": "markdown",
      "metadata": {
        "id": "gTjxzu27tXfE"
      },
      "source": [
        "## Exercise 2\n",
        "\n",
        "\n",
        "\n",
        "Using the same concept as above complete the code below to check if the two propositions p $\\wedge$ (p $\\implies$ q) **AND** p $\\wedge$ q are logically equivalent. Also complete the code to draw the truth table\n"
      ]
    },
    {
      "cell_type": "code",
      "execution_count": 9,
      "metadata": {
        "id": "PvtMugycbri4"
      },
      "outputs": [
        {
          "name": "stdout",
          "output_type": "stream",
          "text": [
            "The expressions are logically equivalent.\n",
            "       p      q  p ∧ (p→ q)  q ∧ p  Equivalent\n",
            "0   True   True        True   True        True\n",
            "1   True  False       False  False        True\n",
            "2  False   True       False  False        True\n",
            "3  False  False       False  False        True\n"
          ]
        }
      ],
      "source": [
        "\n",
        "\n",
        "\n",
        "# Define the symbolic variables p and q\n",
        "p_values = [True, False]\n",
        "q_values = [True, False]\n",
        "\n",
        "\n",
        "# Create a table to store the truth values and results\n",
        "table_data = []\n",
        "\n",
        "# Generate all possible combinations of truth values for p and q\n",
        "for p, q in itertools.product(p_values, q_values):\n",
        "    # Evaluate the expressions\n",
        "    # complete the code code below\n",
        "    expr1_result = (p and (not p or q))\n",
        "    expr2_result = (p and q)\n",
        "\n",
        "    # Determine if they are equivalent\n",
        "    equivalent = expr1_result == expr2_result\n",
        "\n",
        "    # Append the values to the table\n",
        "    table_data.append((p, q, expr1_result, expr2_result, equivalent))\n",
        "\n",
        "# Create a DataFrame to display the truth table\n",
        "import pandas as pd\n",
        "df = pd.DataFrame(table_data, columns=['p', 'q', 'p ∧ (p→ q)', 'q ∧ p', 'Equivalent'])\n",
        "\n",
        "# Check if the expressions are equivalent for all rows\n",
        "equivalent = all(df['Equivalent'])\n",
        "\n",
        "# Determine the result\n",
        "if equivalent:\n",
        "    print(\"The expressions are logically equivalent.\")\n",
        "else:\n",
        "    print(\"The expressions are not logically equivalent.\")\n",
        "\n",
        "# Display the truth table\n",
        "# insert code below\n",
        "print(df)"
      ]
    },
    {
      "cell_type": "markdown",
      "metadata": {
        "id": "iyWapJV0xAjI"
      },
      "source": [
        "# Practice 3\n",
        "\n",
        "Consider the following statement in English \"\n",
        "**The square of every number is at least 0.**\". A logical expression with the same meaning could be written as $\\forall$x (x**2 ≥ 0)\n",
        "\n",
        "Write a program to to check if the value holds true for a range of numbers between -10 to 10"
      ]
    },
    {
      "cell_type": "code",
      "execution_count": null,
      "metadata": {
        "colab": {
          "base_uri": "https://localhost:8080/"
        },
        "id": "zQD0L6V_phm8",
        "outputId": "6c26fe6c-18ff-47b0-9ebf-40379871d3e1"
      },
      "outputs": [
        {
          "name": "stdout",
          "output_type": "stream",
          "text": [
            "The statement holds for all numbers in the range.\n"
          ]
        }
      ],
      "source": [
        "# Define a function to check the condition for a given number\n",
        "def check_condition(x):\n",
        "    return x ** 2 >= 0\n",
        "\n",
        "# Define the range of numbers to check (for example, from -10 to 10)\n",
        "# Reason for the range is to save calculation time\n",
        "for x in range(-10, 10):\n",
        "    if not check_condition(x):\n",
        "        print(f\"The statement does not hold for {x}.\")\n",
        "        break\n",
        "else:\n",
        "    print(\"The statement holds for all numbers in the range.\")\n"
      ]
    },
    {
      "cell_type": "markdown",
      "metadata": {
        "id": "tX8_rHQgzjF6"
      },
      "source": [
        "Check if the program holds true when x is 2"
      ]
    },
    {
      "cell_type": "code",
      "execution_count": null,
      "metadata": {
        "colab": {
          "base_uri": "https://localhost:8080/"
        },
        "id": "UJlCwToozXz2",
        "outputId": "ae4674cd-cfa1-40ae-b43a-295abe3086a9"
      },
      "outputs": [
        {
          "data": {
            "text/plain": [
              "True"
            ]
          },
          "execution_count": 8,
          "metadata": {},
          "output_type": "execute_result"
        }
      ],
      "source": [
        "check_condition(-2)"
      ]
    },
    {
      "cell_type": "code",
      "execution_count": 1,
      "metadata": {
        "id": "pmDwgIisLoTF"
      },
      "outputs": [
        {
          "name": "stdout",
          "output_type": "stream",
          "text": [
            "Collecting nbconvert\n",
            "  Downloading nbconvert-7.16.4-py3-none-any.whl.metadata (8.5 kB)\n",
            "Collecting beautifulsoup4 (from nbconvert)\n",
            "  Downloading beautifulsoup4-4.12.3-py3-none-any.whl.metadata (3.8 kB)\n",
            "Collecting bleach!=5.0.0 (from nbconvert)\n",
            "  Downloading bleach-6.1.0-py3-none-any.whl.metadata (30 kB)\n",
            "Collecting defusedxml (from nbconvert)\n",
            "  Downloading defusedxml-0.7.1-py2.py3-none-any.whl.metadata (32 kB)\n",
            "Collecting jinja2>=3.0 (from nbconvert)\n",
            "  Downloading jinja2-3.1.4-py3-none-any.whl.metadata (2.6 kB)\n",
            "Requirement already satisfied: jupyter-core>=4.7 in c:\\users\\bistr\\appdata\\roaming\\python\\python312\\site-packages (from nbconvert) (5.7.2)\n",
            "Collecting jupyterlab-pygments (from nbconvert)\n",
            "  Downloading jupyterlab_pygments-0.3.0-py3-none-any.whl.metadata (4.4 kB)\n",
            "Collecting markupsafe>=2.0 (from nbconvert)\n",
            "  Downloading MarkupSafe-2.1.5-cp312-cp312-win_amd64.whl.metadata (3.1 kB)\n",
            "Collecting mistune<4,>=2.0.3 (from nbconvert)\n",
            "  Downloading mistune-3.0.2-py3-none-any.whl.metadata (1.7 kB)\n",
            "Collecting nbclient>=0.5.0 (from nbconvert)\n",
            "  Downloading nbclient-0.10.0-py3-none-any.whl.metadata (7.8 kB)\n",
            "Collecting nbformat>=5.7 (from nbconvert)\n",
            "  Downloading nbformat-5.10.4-py3-none-any.whl.metadata (3.6 kB)\n",
            "Requirement already satisfied: packaging in c:\\users\\bistr\\appdata\\roaming\\python\\python312\\site-packages (from nbconvert) (24.1)\n",
            "Collecting pandocfilters>=1.4.1 (from nbconvert)\n",
            "  Downloading pandocfilters-1.5.1-py2.py3-none-any.whl.metadata (9.0 kB)\n",
            "Requirement already satisfied: pygments>=2.4.1 in c:\\users\\bistr\\appdata\\roaming\\python\\python312\\site-packages (from nbconvert) (2.18.0)\n",
            "Collecting tinycss2 (from nbconvert)\n",
            "  Downloading tinycss2-1.3.0-py3-none-any.whl.metadata (3.0 kB)\n",
            "Requirement already satisfied: traitlets>=5.1 in c:\\users\\bistr\\appdata\\roaming\\python\\python312\\site-packages (from nbconvert) (5.14.3)\n",
            "Requirement already satisfied: six>=1.9.0 in c:\\users\\bistr\\appdata\\roaming\\python\\python312\\site-packages (from bleach!=5.0.0->nbconvert) (1.16.0)\n",
            "Collecting webencodings (from bleach!=5.0.0->nbconvert)\n",
            "  Downloading webencodings-0.5.1-py2.py3-none-any.whl.metadata (2.1 kB)\n",
            "Requirement already satisfied: platformdirs>=2.5 in c:\\users\\bistr\\appdata\\roaming\\python\\python312\\site-packages (from jupyter-core>=4.7->nbconvert) (4.3.6)\n",
            "Requirement already satisfied: pywin32>=300 in c:\\users\\bistr\\appdata\\roaming\\python\\python312\\site-packages (from jupyter-core>=4.7->nbconvert) (306)\n",
            "Requirement already satisfied: jupyter-client>=6.1.12 in c:\\users\\bistr\\appdata\\roaming\\python\\python312\\site-packages (from nbclient>=0.5.0->nbconvert) (8.6.3)\n",
            "Collecting fastjsonschema>=2.15 (from nbformat>=5.7->nbconvert)\n",
            "  Downloading fastjsonschema-2.20.0-py3-none-any.whl.metadata (2.1 kB)\n",
            "Collecting jsonschema>=2.6 (from nbformat>=5.7->nbconvert)\n",
            "  Downloading jsonschema-4.23.0-py3-none-any.whl.metadata (7.9 kB)\n",
            "Collecting soupsieve>1.2 (from beautifulsoup4->nbconvert)\n",
            "  Downloading soupsieve-2.6-py3-none-any.whl.metadata (4.6 kB)\n",
            "Collecting attrs>=22.2.0 (from jsonschema>=2.6->nbformat>=5.7->nbconvert)\n",
            "  Downloading attrs-24.2.0-py3-none-any.whl.metadata (11 kB)\n",
            "Collecting jsonschema-specifications>=2023.03.6 (from jsonschema>=2.6->nbformat>=5.7->nbconvert)\n",
            "  Downloading jsonschema_specifications-2023.12.1-py3-none-any.whl.metadata (3.0 kB)\n",
            "Collecting referencing>=0.28.4 (from jsonschema>=2.6->nbformat>=5.7->nbconvert)\n",
            "  Downloading referencing-0.35.1-py3-none-any.whl.metadata (2.8 kB)\n",
            "Collecting rpds-py>=0.7.1 (from jsonschema>=2.6->nbformat>=5.7->nbconvert)\n",
            "  Downloading rpds_py-0.20.0-cp312-none-win_amd64.whl.metadata (4.2 kB)\n",
            "Requirement already satisfied: python-dateutil>=2.8.2 in c:\\users\\bistr\\appdata\\roaming\\python\\python312\\site-packages (from jupyter-client>=6.1.12->nbclient>=0.5.0->nbconvert) (2.9.0.post0)\n",
            "Requirement already satisfied: pyzmq>=23.0 in c:\\users\\bistr\\appdata\\roaming\\python\\python312\\site-packages (from jupyter-client>=6.1.12->nbclient>=0.5.0->nbconvert) (26.2.0)\n",
            "Requirement already satisfied: tornado>=6.2 in c:\\users\\bistr\\appdata\\roaming\\python\\python312\\site-packages (from jupyter-client>=6.1.12->nbclient>=0.5.0->nbconvert) (6.4.1)\n",
            "Downloading nbconvert-7.16.4-py3-none-any.whl (257 kB)\n",
            "Downloading bleach-6.1.0-py3-none-any.whl (162 kB)\n",
            "Downloading jinja2-3.1.4-py3-none-any.whl (133 kB)\n",
            "Downloading MarkupSafe-2.1.5-cp312-cp312-win_amd64.whl (17 kB)\n",
            "Downloading mistune-3.0.2-py3-none-any.whl (47 kB)\n",
            "Downloading nbclient-0.10.0-py3-none-any.whl (25 kB)\n",
            "Downloading nbformat-5.10.4-py3-none-any.whl (78 kB)\n",
            "Downloading pandocfilters-1.5.1-py2.py3-none-any.whl (8.7 kB)\n",
            "Downloading beautifulsoup4-4.12.3-py3-none-any.whl (147 kB)\n",
            "Downloading defusedxml-0.7.1-py2.py3-none-any.whl (25 kB)\n",
            "Downloading jupyterlab_pygments-0.3.0-py3-none-any.whl (15 kB)\n",
            "Downloading tinycss2-1.3.0-py3-none-any.whl (22 kB)\n",
            "Downloading fastjsonschema-2.20.0-py3-none-any.whl (23 kB)\n",
            "Downloading jsonschema-4.23.0-py3-none-any.whl (88 kB)\n",
            "Downloading soupsieve-2.6-py3-none-any.whl (36 kB)\n",
            "Downloading webencodings-0.5.1-py2.py3-none-any.whl (11 kB)\n",
            "Downloading attrs-24.2.0-py3-none-any.whl (63 kB)\n",
            "Downloading jsonschema_specifications-2023.12.1-py3-none-any.whl (18 kB)\n",
            "Downloading referencing-0.35.1-py3-none-any.whl (26 kB)\n",
            "Downloading rpds_py-0.20.0-cp312-none-win_amd64.whl (214 kB)\n",
            "Installing collected packages: webencodings, fastjsonschema, tinycss2, soupsieve, rpds-py, pandocfilters, mistune, markupsafe, jupyterlab-pygments, defusedxml, bleach, attrs, referencing, jinja2, beautifulsoup4, jsonschema-specifications, jsonschema, nbformat, nbclient, nbconvert\n",
            "Successfully installed attrs-24.2.0 beautifulsoup4-4.12.3 bleach-6.1.0 defusedxml-0.7.1 fastjsonschema-2.20.0 jinja2-3.1.4 jsonschema-4.23.0 jsonschema-specifications-2023.12.1 jupyterlab-pygments-0.3.0 markupsafe-2.1.5 mistune-3.0.2 nbclient-0.10.0 nbconvert-7.16.4 nbformat-5.10.4 pandocfilters-1.5.1 referencing-0.35.1 rpds-py-0.20.0 soupsieve-2.6 tinycss2-1.3.0 webencodings-0.5.1\n",
            "Note: you may need to restart the kernel to use updated packages.\n"
          ]
        },
        {
          "name": "stderr",
          "output_type": "stream",
          "text": [
            "  WARNING: The script jsonschema.exe is installed in 'c:\\Users\\bistr\\AppData\\Local\\Programs\\Python\\Python312\\Scripts' which is not on PATH.\n",
            "  Consider adding this directory to PATH or, if you prefer to suppress this warning, use --no-warn-script-location.\n",
            "  WARNING: The script jupyter-trust.exe is installed in 'c:\\Users\\bistr\\AppData\\Local\\Programs\\Python\\Python312\\Scripts' which is not on PATH.\n",
            "  Consider adding this directory to PATH or, if you prefer to suppress this warning, use --no-warn-script-location.\n",
            "  WARNING: The script jupyter-execute.exe is installed in 'c:\\Users\\bistr\\AppData\\Local\\Programs\\Python\\Python312\\Scripts' which is not on PATH.\n",
            "  Consider adding this directory to PATH or, if you prefer to suppress this warning, use --no-warn-script-location.\n",
            "  WARNING: The scripts jupyter-dejavu.exe and jupyter-nbconvert.exe are installed in 'c:\\Users\\bistr\\AppData\\Local\\Programs\\Python\\Python312\\Scripts' which is not on PATH.\n",
            "  Consider adding this directory to PATH or, if you prefer to suppress this warning, use --no-warn-script-location.\n"
          ]
        }
      ],
      "source": [
        "%pip install nbconvert "
      ]
    }
  ],
  "metadata": {
    "colab": {
      "include_colab_link": true,
      "provenance": []
    },
    "kernelspec": {
      "display_name": "Python 3",
      "name": "python3"
    },
    "language_info": {
      "codemirror_mode": {
        "name": "ipython",
        "version": 3
      },
      "file_extension": ".py",
      "mimetype": "text/x-python",
      "name": "python",
      "nbconvert_exporter": "python",
      "pygments_lexer": "ipython3",
      "version": "3.12.6"
    }
  },
  "nbformat": 4,
  "nbformat_minor": 0
}
