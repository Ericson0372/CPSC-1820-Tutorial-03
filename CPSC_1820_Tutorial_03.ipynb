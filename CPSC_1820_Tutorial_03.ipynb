{
  "nbformat": 4,
  "nbformat_minor": 0,
  "metadata": {
    "colab": {
      "provenance": [],
      "include_colab_link": true
    },
    "kernelspec": {
      "name": "python3",
      "display_name": "Python 3"
    },
    "language_info": {
      "name": "python"
    }
  },
  "cells": [
    {
      "cell_type": "markdown",
      "metadata": {
        "id": "view-in-github",
        "colab_type": "text"
      },
      "source": [
        "<a href=\"https://colab.research.google.com/github/Ericson0372/CPSC-1820-Tutorial-03/blob/main/CPSC_1820_Tutorial_03.ipynb\" target=\"_parent\"><img src=\"https://colab.research.google.com/assets/colab-badge.svg\" alt=\"Open In Colab\"/></a>"
      ]
    },
    {
      "cell_type": "markdown",
      "source": [
        "For this Tutorial, while still aiming to grasp the concept of \"program correctness\", we would delve into Logical Equivalence and verify if select propositions are **tautology** or **contradiction**\n",
        "\n",
        "We would be given a program already designed but with some lines of code redacted. The program would give an output based on the proposition we feed into it.\n",
        "\n",
        "We would also engage our conditional **for, if and else-if** statements.\n",
        "\n",
        "Consider the truth table for tautology below with a proposition **p$\\lor$ $\\neg$p **\n",
        "$$\n",
        "\\begin{array}{|c|c|c|}\n",
        "\\hline\n",
        "p & \\neg p & p\\lor\\neg p  \\\\\n",
        "\\hline\n",
        "\\text{True} & \\text{False} & \\text{True} \\\\\n",
        "\\text{False} & \\text{True} & \\text{True} \\\\\n",
        "\\hline\n",
        "\\end{array}\n",
        "$$\n"
      ],
      "metadata": {
        "id": "jwTYwYTkhfrA"
      }
    },
    {
      "cell_type": "markdown",
      "source": [
        "# Practice 1\n",
        "\n",
        "The code below is designed to recieve the right syntax for (p $\\lor$ q) $\\lor$ (q $\\implies$ p) and check if the logical expression is a tautology or contradiction while drawing the truth table for verification\n",
        "\n",
        "\n"
      ],
      "metadata": {
        "id": "fzexlY1YprdK"
      }
    },
    {
      "cell_type": "code",
      "execution_count": null,
      "metadata": {
        "id": "ErXc4aBX_fc4"
      },
      "outputs": [],
      "source": [
        "import pandas as pd\n",
        "import itertools"
      ]
    },
    {
      "cell_type": "code",
      "source": [
        "# Define a function to evaluate the logical expression (p ∨ q) ∨ (q → p)\n",
        "def evaluate_expression(p, q):\n",
        "    return (p or q) or (p ** q)\n",
        "\n",
        "# Create a list of all possible truth values for p and q\n",
        "possible_truth_values = [(p, q) for p in [True, False] for q in [True, False]]\n",
        "\n",
        "# Create a table to store the truth values and the results of the expression\n",
        "table_data = []\n",
        "\n",
        "# Evaluate the expression for each combination of truth values\n",
        "for p, q in possible_truth_values:\n",
        "    result = evaluate_expression(p, q)\n",
        "    table_data.append((p, q, result))\n",
        "\n",
        "# Create a DataFrame to display the truth table\n",
        "df = pd.DataFrame(table_data, columns=['p', 'q', '(p ∨ q) ∨ (q → p)'])\n",
        "\n",
        "# Display the truth table\n",
        "print(df)\n",
        "\n",
        "print()\n",
        "# Determine whether the logical expression is a tautology, contradiction, or neither\n",
        "if all(df['(p ∨ q) ∨ (q → p)']):\n",
        "    print(\"(p ∨ q) ∨ (q → p) is a tautology.\")\n",
        "elif not any(df['(p ∨ q) ∨ (q → p)']):\n",
        "    print(\"(p ∨ q) ∨ (q → p) is a contradiction.\")\n",
        "else:\n",
        "    print(\"(p ∨ q) ∨ (q → p) is neither a tautology nor a contradiction.\")\n",
        "\n"
      ],
      "metadata": {
        "id": "8HOGNtABBSnv",
        "colab": {
          "base_uri": "https://localhost:8080/"
        },
        "outputId": "4eace166-67fa-479e-8212-e2a1b5c0bf13"
      },
      "execution_count": null,
      "outputs": [
        {
          "output_type": "stream",
          "name": "stdout",
          "text": [
            "       p      q (p ∨ q) ∨ (q → p)\n",
            "0   True   True              True\n",
            "1   True  False              True\n",
            "2  False   True              True\n",
            "3  False  False                 1\n",
            "\n",
            "(p ∨ q) ∨ (q → p) is a tautology.\n"
          ]
        }
      ]
    },
    {
      "cell_type": "markdown",
      "source": [
        "## Exercise 1\n",
        "\n",
        "Complete the code below and state if the logical expression (p $\\implies$ q) $\\lor$ p is a tautology or contradiction."
      ],
      "metadata": {
        "id": "JRz7Q2LHrWvm"
      }
    },
    {
      "cell_type": "code",
      "source": [
        "\n",
        "\n",
        "# Define a function to evaluate the logical expression (p → q) ∨ p\n",
        "def evaluate_expression(p, q):\n",
        "    # Return the expression\n",
        "    # complete the code below\n",
        "    return ()\n",
        "\n",
        "\n",
        "# Create a list of all possible truth values for p and q\n",
        "possible_truth_values = [(p, q) for p in [True, False] for q in [True, False]]\n",
        "\n",
        "# Create a table to store the truth values and the results of the expression\n",
        "table_data = []\n",
        "\n",
        "# Evaluate the expression for each combination of truth values\n",
        "for p, q in possible_truth_values:\n",
        "    result = evaluate_expression(p, q)\n",
        "    table_data.append((p, q, result))\n",
        "\n",
        "# Create a DataFrame to display the truth table\n",
        "df = pd.DataFrame(table_data, columns=['p', 'q', '(p → q) ∨ p'])\n",
        "\n",
        "# Display the truth table\n",
        "# insert code here\n",
        "\n",
        "print()\n",
        "# Determine whether the expression is a tautology, contradiction, or neither\n",
        "if all(df['(p → q) ∨ p']):\n",
        "    print(\"(p → q) ∨ p is a tautology.\")\n",
        "elif not any(df['(p → q) ∨ p']):\n",
        "    print(\"(p → q) ∨ p is a contradiction.\")\n",
        "else:\n",
        "    print(\"(p → q) ∨ p is neither a tautology nor a contradiction.\")\n",
        "\n",
        "\n"
      ],
      "metadata": {
        "id": "SwFW-MiKEAE3"
      },
      "execution_count": null,
      "outputs": []
    },
    {
      "cell_type": "markdown",
      "source": [
        "# Practice 2\n",
        "\n",
        "Recall that for two propositions to be logically equivalent, their truth values must be same regardless of the truth values of individual propositions.\n",
        "\n",
        "\n",
        "Consider the proposition (p $\\implies$ q) $\\wedge$ (r $\\implies$ q) **AND** (p $\\wedge$ r) $\\implies$ q. A program has been designed to check if the two propositions are logically equivalent or not."
      ],
      "metadata": {
        "id": "kVcS1qlrsxf4"
      }
    },
    {
      "cell_type": "code",
      "source": [
        "# Define the symbolic variables p, q, and r\n",
        "p_values = [True, False]\n",
        "q_values = [True, False]\n",
        "r_values = [True, False]\n",
        "\n",
        "# Create a table to store the truth values and results\n",
        "table_data = []\n",
        "\n",
        "# Generate all possible combinations of truth values for p, q, and r\n",
        "for p, q, r in itertools.product(p_values, q_values, r_values):\n",
        "    # Evaluate the expressions\n",
        "    expr1_result = (q ** p) and (q ** r)\n",
        "    expr2_result = q ** (p and r)\n",
        "\n",
        "    # Determine if they are equivalent\n",
        "    equivalent = expr1_result == expr2_result\n",
        "\n",
        "    # Append the values to the table\n",
        "    table_data.append((p, q, r, expr1_result, expr2_result, equivalent))\n",
        "\n",
        "# Create a DataFrame to display the truth table\n",
        "import pandas as pd\n",
        "df = pd.DataFrame(table_data, columns=['p', 'q', 'r', '(p → q) ∧ (r → q)', '(p ∧ r) → q', 'Equivalent'])\n",
        "\n",
        "# Check if the expressions are equivalent for all rows\n",
        "equivalent = all(df['Equivalent'])\n",
        "# Display the truth table\n",
        "print(df)\n",
        "# Determine the result\n",
        "if equivalent:\n",
        "    print(\"The expressions are logically equivalent.\")\n",
        "else:\n",
        "    print(\"The expressions are not logically equivalent.\")\n",
        "\n",
        "\n"
      ],
      "metadata": {
        "id": "1gIxniwJFrl9",
        "colab": {
          "base_uri": "https://localhost:8080/"
        },
        "outputId": "4e7090e9-5b80-4be2-c181-1f167471f8d0"
      },
      "execution_count": null,
      "outputs": [
        {
          "output_type": "stream",
          "name": "stdout",
          "text": [
            "       p      q      r  (p → q) ∧ (r → q)  (p ∧ r) → q  Equivalent\n",
            "0   True   True   True                  1            1        True\n",
            "1   True   True  False                  1            1        True\n",
            "2   True  False   True                  0            0        True\n",
            "3   True  False  False                  0            1       False\n",
            "4  False   True   True                  1            1        True\n",
            "5  False   True  False                  1            1        True\n",
            "6  False  False   True                  0            1       False\n",
            "7  False  False  False                  1            1        True\n",
            "The expressions are not logically equivalent.\n"
          ]
        }
      ]
    },
    {
      "cell_type": "markdown",
      "source": [
        "## Exercise 2\n",
        "\n",
        "\n",
        "\n",
        "Using the same concept as above complete the code below to check if the two propositions p $\\wedge$ (p $\\implies$ q) **AND** p $\\wedge$ q are logically equivalent. Also complete the code to draw the truth table\n"
      ],
      "metadata": {
        "id": "gTjxzu27tXfE"
      }
    },
    {
      "cell_type": "code",
      "source": [
        "\n",
        "\n",
        "\n",
        "# Define the symbolic variables p and q\n",
        "p_values = [True, False]\n",
        "q_values = [True, False]\n",
        "\n",
        "\n",
        "# Create a table to store the truth values and results\n",
        "table_data = []\n",
        "\n",
        "# Generate all possible combinations of truth values for p and q\n",
        "for p, q in itertools.product(p_values, q_values):\n",
        "    # Evaluate the expressions\n",
        "    # complete the code code below\n",
        "    expr1_result =\n",
        "    expr2_result =\n",
        "\n",
        "    # Determine if they are equivalent\n",
        "    equivalent = expr1_result == expr2_result\n",
        "\n",
        "    # Append the values to the table\n",
        "    table_data.append((p, q, expr1_result, expr2_result, equivalent))\n",
        "\n",
        "# Create a DataFrame to display the truth table\n",
        "import pandas as pd\n",
        "df = pd.DataFrame(table_data, columns=['p', 'q', 'p ∧ (p→ q)', 'q ∧ p', 'Equivalent'])\n",
        "\n",
        "# Check if the expressions are equivalent for all rows\n",
        "equivalent = all(df['Equivalent'])\n",
        "\n",
        "# Determine the result\n",
        "if equivalent:\n",
        "    print(\"The expressions are logically equivalent.\")\n",
        "else:\n",
        "    print(\"The expressions are not logically equivalent.\")\n",
        "\n",
        "# Display the truth table\n",
        "# insert code below"
      ],
      "metadata": {
        "id": "PvtMugycbri4"
      },
      "execution_count": null,
      "outputs": []
    },
    {
      "cell_type": "markdown",
      "source": [
        "# Practice 3\n",
        "\n",
        "Consider the following statement in English \"\n",
        "**The square of every number is at least 0.**\". A logical expression with the same meaning could be written as $\\forall$x (x**2 ≥ 0)\n",
        "\n",
        "Write a program to to check if the value holds true for a range of numbers between -10 to 10"
      ],
      "metadata": {
        "id": "iyWapJV0xAjI"
      }
    },
    {
      "cell_type": "code",
      "source": [
        "# Define a function to check the condition for a given number\n",
        "def check_condition(x):\n",
        "    return x ** 2 >= 0\n",
        "\n",
        "# Define the range of numbers to check (for example, from -10 to 10)\n",
        "# Reason for the range is to save calculation time\n",
        "for x in range(-10, 10):\n",
        "    if not check_condition(x):\n",
        "        print(f\"The statement does not hold for {x}.\")\n",
        "        break\n",
        "else:\n",
        "    print(\"The statement holds for all numbers in the range.\")\n"
      ],
      "metadata": {
        "id": "zQD0L6V_phm8",
        "colab": {
          "base_uri": "https://localhost:8080/"
        },
        "outputId": "6c26fe6c-18ff-47b0-9ebf-40379871d3e1"
      },
      "execution_count": null,
      "outputs": [
        {
          "output_type": "stream",
          "name": "stdout",
          "text": [
            "The statement holds for all numbers in the range.\n"
          ]
        }
      ]
    },
    {
      "cell_type": "markdown",
      "source": [
        "Check if the program holds true when x is 2"
      ],
      "metadata": {
        "id": "tX8_rHQgzjF6"
      }
    },
    {
      "cell_type": "code",
      "source": [
        "check_condition(-2)"
      ],
      "metadata": {
        "id": "UJlCwToozXz2",
        "colab": {
          "base_uri": "https://localhost:8080/"
        },
        "outputId": "ae4674cd-cfa1-40ae-b43a-295abe3086a9"
      },
      "execution_count": null,
      "outputs": [
        {
          "output_type": "execute_result",
          "data": {
            "text/plain": [
              "True"
            ]
          },
          "metadata": {},
          "execution_count": 8
        }
      ]
    },
    {
      "cell_type": "code",
      "source": [],
      "metadata": {
        "id": "pmDwgIisLoTF"
      },
      "execution_count": null,
      "outputs": []
    }
  ]
}